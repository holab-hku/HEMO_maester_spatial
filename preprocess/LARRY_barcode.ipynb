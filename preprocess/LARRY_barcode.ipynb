{
 "cells": [
  {
   "cell_type": "code",
   "execution_count": 213,
   "id": "49be25cb-be86-463f-9e9c-e3e2c34027bf",
   "metadata": {},
   "outputs": [],
   "source": [
    "import gzip, time\n",
    "import numpy as np\n",
    "import pandas as pd\n",
    "import matplotlib.pyplot as plt\n",
    "from collections import defaultdict\n",
    "\n",
    "def is_valid(bc):\n",
    "    return (bc[4:6]=='TG'\n",
    "            and bc[10:12]=='CA' \n",
    "            and bc[16:18]=='AC' \n",
    "            and bc[22:24]=='GA' \n",
    "            and bc[28:30]=='GT'\n",
    "            and bc[34:36]=='AG')\n",
    "\n",
    "def in_filtered_list(cell_bc, filtered_cell_barcodes):\n",
    "    num_Ns = sum([c=='N' for c in cell_bc])\n",
    "    if num_Ns > 1: return False\n",
    "    elif num_Ns == 1: return np.any([cell_bc.replace('N',c) in filtered_cell_barcodes for c in 'ACTG'])\n",
    "    else: return cell_bc in filtered_cell_barcodes"
   ]
  },
  {
   "cell_type": "code",
   "execution_count": null,
   "id": "f8c4eccd-ae70-4edf-a252-c0e4a09cdbaf",
   "metadata": {},
   "outputs": [],
   "source": [
    "# set cell type information and larry fasta to get larry clone\n",
    "#celltype file path, get from LARRY_D4, etc.\n",
    "f_p = \"/autofs/bal31/jhsu/home/projects/sc/data/hemo_paper_larry/larry-maester-d4/sc/2_bam/outs/raw_celltype.csv\"\n",
    "# larry file path\n",
    "fastq_path = '/autofs/bal36/jhsu/sc/larry/SugimuraRR_UCSO_CPOS-240606-RRS-23942a/SugimuraRR_UCSO_CPOS-240606-RRS-23942a/primary_seq/larry-amplicon_{}.fastq.gz'\n",
    "sample = 'Larry_1'"
   ]
  },
  {
   "cell_type": "code",
   "execution_count": null,
   "id": "710bf7e2-97a3-4e81-8fbe-20e977901891",
   "metadata": {},
   "outputs": [],
   "source": []
  },
  {
   "cell_type": "code",
   "execution_count": null,
   "id": "7685bf35-c9be-4372-8034-47a1be9624d6",
   "metadata": {},
   "outputs": [],
   "source": [
    "_celltype_p = f_p\n",
    "_tmp_df = pd.read_csv(_celltype_p, header=0)\n",
    "\n",
    "filtered_cell_barcodes = list(_tmp_df['Unnamed: 0'].values)\n",
    "filtered_cell_barcodes_set = set(filtered_cell_barcodes)"
   ]
  },
  {
   "cell_type": "code",
   "execution_count": 215,
   "id": "630e0f32-0d4e-45e0-a91d-37a03ee2ed6a",
   "metadata": {},
   "outputs": [],
   "source": [
    "larry_prefix = 'GTTGCTAGGAGAGACCATATG'\n",
    "N_READS = 10\n",
    "N_UMIS = 3\n",
    "N_HAMMING = 3\n",
    "\n",
    "output_prefix = 'Larry_1'"
   ]
  },
  {
   "cell_type": "code",
   "execution_count": null,
   "id": "ecd18c38-1ebf-46d8-b5ef-b91019467271",
   "metadata": {},
   "outputs": [],
   "source": []
  },
  {
   "cell_type": "code",
   "execution_count": null,
   "id": "1602141c-7a22-4933-b8fe-bf967ec0e021",
   "metadata": {},
   "outputs": [],
   "source": [
    "counts = {}\n",
    "\n",
    "# fastq_path = '/autofs/bal36/jhsu/sc/larry/SugimuraRR_UCSO_CPOS-240606-RRS-23942a/SugimuraRR_UCSO_CPOS-240606-RRS-23942a/primary_seq/larry-amplicon_{}.fastq.gz'\n",
    "# sample = 'Larry_1'\n",
    "\n",
    "R1 = gzip.open(fastq_path.format('1'))\n",
    "R2 = gzip.open(fastq_path.format('2'))\n",
    "counter = 0\n",
    "start_time = time.time()\n",
    "while True:\n",
    "    counter += 1\n",
    "    if counter % 1000000 == 0: print(fastq_path+ ': Processed {} lines in {} seconds'.format(counter, time.time()-start_time))\n",
    "    try:\n",
    "        r1_line = R1.readline().decode('utf-8')\n",
    "        r2_line = R2.readline().decode('utf-8')\n",
    "    except:\n",
    "        print('ERROR extracting {}'.format(fastq_path))\n",
    "        break\n",
    "    if r2_line == '': break\n",
    "    if r2_line[0] in '@+': continue\n",
    "    if larry_prefix in r2_line:\n",
    "        larry_bc = r2_line.split(larry_prefix)[1][:40]\n",
    "        cell_bc = r1_line[:16]+'-1'\n",
    "        umi = r1_line[16:24]\n",
    "        if is_valid(larry_bc) and in_filtered_list(cell_bc, filtered_cell_barcodes):\n",
    "            combo = (sample, cell_bc, umi, larry_bc)\n",
    "            if combo in counts:\n",
    "                counts[combo] += 1\n",
    "            else:\n",
    "                counts[combo] = 1"
   ]
  },
  {
   "cell_type": "code",
   "execution_count": null,
   "id": "406c0183-1917-44d7-9320-ae203ea2a6ea",
   "metadata": {},
   "outputs": [],
   "source": []
  },
  {
   "cell_type": "code",
   "execution_count": null,
   "id": "65baf5b8-f46d-4b2d-988d-758dca620223",
   "metadata": {},
   "outputs": [],
   "source": [
    "num_reads = [v for k,v in counts.items()]\n",
    "plt.hist(np.log(num_reads)/np.log(10), bins=50)\n",
    "plt.axvline(np.log(N_READS)/np.log(10),c='k')\n",
    "plt.xticks(range(5),np.logspace(0,4,5))\n",
    "plt.text(np.log(N_READS)/np.log(10)*1.1,10**6,'N_READS cutoff', fontsize=12)\n",
    "plt.yscale('log')\n",
    "\n",
    "counts_filtered = {k:v for k,v in counts.items() if v >= N_READS}\n",
    "print('Retaining '+repr(len(counts_filtered))+ ' out of '+repr(len(counts))+' (Sample,Cell-BC,UMI,GFP-BC) combinations')\n"
   ]
  },
  {
   "cell_type": "code",
   "execution_count": null,
   "id": "88fe2644-1d7e-4ed9-b6fa-8304597d9df9",
   "metadata": {},
   "outputs": [],
   "source": []
  },
  {
   "cell_type": "code",
   "execution_count": null,
   "id": "81a780db-1f80-43dc-a1f1-5f8a942d568e",
   "metadata": {},
   "outputs": [],
   "source": [
    "def hamming(bc1,bc2): return np.sum([x1 != x2 for x1,x2 in zip(bc1,bc2)])\n",
    "\n",
    "all_gfp_bcs = sorted(set([k[3] for k in counts_filtered]))\n",
    "good_gfp_bcs = []\n",
    "bc_map = {}\n",
    "for i,bc1 in enumerate(all_gfp_bcs):\n",
    "    if i > 0 and i % 500 == 0: print('Mapped '+repr(i)+' out of '+repr(len(all_gfp_bcs))+' barcodes')\n",
    "    mapped = False\n",
    "    for bc2 in good_gfp_bcs:\n",
    "        if hamming(bc1,bc2) <= N_HAMMING:\n",
    "            mapped = True\n",
    "            bc_map[bc1] = bc2\n",
    "            break\n",
    "    if not mapped:\n",
    "        good_gfp_bcs.append(bc1)\n",
    "\n",
    "print('\\nCollapsed '+repr(len(bc_map))+' barcodes')\n",
    "for bc in good_gfp_bcs: bc_map[bc] = bc\n"
   ]
  },
  {
   "cell_type": "code",
   "execution_count": null,
   "id": "b31ba9a2-d6cf-4499-a08e-489d03c2ae75",
   "metadata": {},
   "outputs": [],
   "source": [
    "# cell_data = {}\n",
    "# for sample,paths in sample_paths.items():\n",
    "#     filtered_cell_barcodes = gzip.open(paths['filtered_cell_barcodes_path']).read().decode('utf-8').split('\\n')\n",
    "#     for cell_bc in filtered_cell_barcodes:\n",
    "#         cell_data[(sample,cell_bc)] = {}\n",
    "\n",
    "cell_data = {}\n",
    "for cell_bc in filtered_cell_barcodes:\n",
    "    cell_data[(sample,cell_bc)] = {}\n",
    "\n",
    "\n",
    "for sample,cell_bc,umi,larry_bc in counts_filtered.keys():\n",
    "    if (sample,cell_bc) in cell_data:\n",
    "        if not larry_bc in cell_data[(sample,cell_bc)]:\n",
    "            cell_data[(sample,cell_bc)][larry_bc] = 0\n",
    "        cell_data[(sample,cell_bc)][larry_bc] += 1\n",
    "\n",
    "num_cells_with_barcode = np.zeros(20)\n",
    "for larry_bc_counts in cell_data.values():\n",
    "    if len(larry_bc_counts)>0:\n",
    "        num_cells_with_barcode[:np.min([20,np.max(list(larry_bc_counts.values()))])] += 1\n",
    "efficiency = num_cells_with_barcode / len(cell_data)\n",
    "plt.plot(range(20),efficiency)\n",
    "plt.plot([N_UMIS,N_UMIS],[np.min(efficiency),np.max(efficiency)],'-k',linewidth=2)\n",
    "plt.text(N_UMIS*1.1,np.max(efficiency)*.95,'UMI cutoff',fontsize=14)\n",
    "\n",
    "final_BCs = {}\n",
    "for k,larry_bc_counts in cell_data.items():\n",
    "    final_BCs[k] = '-'.join(sorted([k for k,v in larry_bc_counts.items() if v >= N_UMIS]))\n",
    "print('\\nFinal annotation has '+repr(len(set(final_BCs.values())))+' clones in '+repr(len([k for k,v in final_BCs.items() if len(v)>0]))+' cells')\n"
   ]
  },
  {
   "cell_type": "code",
   "execution_count": null,
   "id": "fd17508d-4dc7-4d2e-a059-1b5f0cc8fdb8",
   "metadata": {},
   "outputs": [],
   "source": [
    "output = []\n",
    "for cell_bc in filtered_cell_barcodes:\n",
    "    output.append(sample+','+cell_bc+','+final_BCs[(sample,cell_bc)])\n",
    "open(output_prefix+'.larry_clones.csv','w').write('\\n'.join(output))"
   ]
  },
  {
   "cell_type": "code",
   "execution_count": null,
   "id": "9a93bfa8-720a-4049-874e-82f43d1b353e",
   "metadata": {},
   "outputs": [],
   "source": [
    "BC_set = sorted(set([final_BCs[(k, v)] for k, v in final_BCs if final_BCs[(k, v)] != '']))\n",
    "clone_mat = np.zeros((len(final_BCs),len(BC_set)))\n",
    "for i,bc in enumerate(final_BCs.values()):\n",
    "#     print(i, bc)\n",
    "    if bc != '':\n",
    "        j = BC_set.index(bc)\n",
    "        clone_mat[i,j] = 1\n",
    "clone_mat = np.array(clone_mat,dtype=int)\n",
    "np.savetxt('clone_mat.csv',clone_mat,delimiter=',',fmt='%i')\n",
    "# open('barcode_list.txt','w').write('\\n'.join(final_BCs));\n"
   ]
  },
  {
   "cell_type": "code",
   "execution_count": null,
   "id": "d644e6c2-9aae-40ad-b0a1-554f4e816ffa",
   "metadata": {},
   "outputs": [],
   "source": [
    "n_l = []\n",
    "i = 0\n",
    "j = 0\n",
    "for k, v in final_BCs:\n",
    "#     print(k, v, final_BCs[(k, v)])\n",
    "    j += 1\n",
    "    if final_BCs[(k, v)] != '':\n",
    "        n_l.append(v)\n",
    "        i += 1\n",
    "print(i, j)\n",
    "len(set(n_l))"
   ]
  },
  {
   "cell_type": "code",
   "execution_count": null,
   "id": "92522577-c45a-4363-962a-2134863f653e",
   "metadata": {},
   "outputs": [],
   "source": [
    "ax = pd.DataFrame([i.split(\",\") for i in output]).groupby(2).size().hist(bins=200)\n",
    "ax.set_xlim((3,16))\n",
    "ax.set_ylim((0, 200))"
   ]
  },
  {
   "cell_type": "code",
   "execution_count": null,
   "id": "95c3499a-7496-4cbe-bd74-01d133b392a1",
   "metadata": {},
   "outputs": [],
   "source": [
    "ax = pd.DataFrame([i.split(\",\") for i in output]).groupby(2).size().hist(bins=200)\n",
    "# ax.set_xlim((2,10))"
   ]
  },
  {
   "cell_type": "code",
   "execution_count": null,
   "id": "bf34dc7f-60d8-46be-bbb8-e4d7fd12d197",
   "metadata": {},
   "outputs": [],
   "source": []
  }
 ],
 "metadata": {
  "kernelspec": {
   "display_name": "Python [conda env:nbase]",
   "language": "python",
   "name": "conda-env-nbase-py"
  },
  "language_info": {
   "codemirror_mode": {
    "name": "ipython",
    "version": 3
   },
   "file_extension": ".py",
   "mimetype": "text/x-python",
   "name": "python",
   "nbconvert_exporter": "python",
   "pygments_lexer": "ipython3",
   "version": "3.7.3"
  }
 },
 "nbformat": 4,
 "nbformat_minor": 5
}
